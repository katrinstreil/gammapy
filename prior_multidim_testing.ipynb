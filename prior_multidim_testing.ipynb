{
 "cells": [
  {
   "cell_type": "code",
   "execution_count": 1,
   "id": "94a7ee12",
   "metadata": {},
   "outputs": [],
   "source": [
    "from gammapy.datasets import MapDataset, Dataset, Datasets\n",
    "from gammapy.modeling.models import SpectralModel,PowerLawSpectralModel, Model, Models, SkyModel, GaussianSpatialModel\n",
    "from gammapy.modeling import Parameter, Parameters, PriorParameter\n",
    "import numpy as np\n",
    "from  matplotlib import pyplot as plt\n",
    "from gammapy.modeling.models import PriorModel, GaussianPriorModel, MultiDimensionalPrior, UniformPriorModel"
   ]
  },
  {
   "cell_type": "code",
   "execution_count": 2,
   "id": "4a36f2c9",
   "metadata": {},
   "outputs": [
    {
     "data": {
      "text/html": [
       "<pre>Parameter(name=&#x27;amplitude&#x27;, value=1e-12, factor=1e-12, scale=1.0, unit=Unit(&quot;1 / (TeV s cm2)&quot;), min=nan, max=nan, frozen=False, prior=&lt;gammapy.modeling.models.prior.UniformPriorModel object at 0x7efda2c17dc0&gt;, id=0x7efda2c12100)</pre>"
      ],
      "text/plain": [
       "Parameter(name='amplitude', value=1e-12, factor=1e-12, scale=1.0, unit=Unit(\"1 / (TeV s cm2)\"), min=nan, max=nan, frozen=False, prior=<gammapy.modeling.models.prior.UniformPriorModel object at 0x7efda2c17dc0>, id=0x7efda2c12100)"
      ]
     },
     "execution_count": 2,
     "metadata": {},
     "output_type": "execute_result"
    }
   ],
   "source": [
    "covariance_matrix = np.array([[1.0, -1.0], [-1.0, 1.0]])\n",
    "\n",
    "spatial_model = GaussianSpatialModel(\n",
    "    lon_0=\"0.2 deg\", lat_0=\"0.1 deg\", sigma=\"0.3 deg\", frame=\"galactic\"\n",
    ")\n",
    "\n",
    "pwl1 = PowerLawSpectralModel(index = 2.0)\n",
    "pwl2 = PowerLawSpectralModel(index = 2.1)\n",
    "\n",
    "\n",
    "models  = Models([SkyModel(pwl1, spatial_model=spatial_model, name = '1'), \n",
    "                  SkyModel(pwl2, spatial_model=spatial_model, name = '2')])\n",
    "\n",
    "\n",
    "uni =  UniformPriorModel(uni  = 10, modelparameters= pwl1.parameters['amplitude'])\n",
    "\n",
    "pwl1.parameters['amplitude']"
   ]
  },
  {
   "cell_type": "code",
   "execution_count": 3,
   "id": "53c6f652",
   "metadata": {},
   "outputs": [
    {
     "name": "stdout",
     "output_type": "stream",
     "text": [
      "{'prior': {'type': 'MultiDimensionalPrior', 'modelparameters': ['index', 'index'], 'weight': 1, 'name': 'indices correlation', 'covariance_matrix': array([[ 1., -1.],\n",
      "       [-1.,  1.]])}}\n",
      "10.0\n",
      "0.010000000000000009\n"
     ]
    }
   ],
   "source": [
    "modelparameters = Parameters([pwl1.index,  pwl2.index])\n",
    "multidimmodel = MultiDimensionalPrior(modelparameters,\n",
    "                                          covariance_matrix = covariance_matrix,\n",
    "                                          name = 'indices correlation')\n",
    "\n",
    "   \n",
    "print(multidimmodel.to_dict(full_output=True))\n",
    "\n",
    "print(uni())\n",
    "print(multidimmodel())"
   ]
  },
  {
   "cell_type": "code",
   "execution_count": 4,
   "id": "91a2f92a",
   "metadata": {},
   "outputs": [
    {
     "name": "stdout",
     "output_type": "stream",
     "text": [
      "[<gammapy.modeling.models.prior.MultiDimensionalPrior object at 0x7efda0389400>, <gammapy.modeling.models.prior.UniformPriorModel object at 0x7efda2c17dc0>, <gammapy.modeling.models.prior.MultiDimensionalPrior object at 0x7efda0389400>]\n"
     ]
    }
   ],
   "source": [
    "priors = [p.prior for p in models.parameters if p.prior is not None]\n",
    "print(priors)"
   ]
  },
  {
   "cell_type": "code",
   "execution_count": 5,
   "id": "0e62551b",
   "metadata": {},
   "outputs": [],
   "source": [
    "from gammapy.stats import prior_fit_statistic"
   ]
  },
  {
   "cell_type": "code",
   "execution_count": 6,
   "id": "a07b207e",
   "metadata": {},
   "outputs": [
    {
     "data": {
      "text/plain": [
       "10.01"
      ]
     },
     "execution_count": 6,
     "metadata": {},
     "output_type": "execute_result"
    }
   ],
   "source": [
    "prior_fit_statistic(priors)\n"
   ]
  },
  {
   "cell_type": "code",
   "execution_count": 7,
   "id": "c5089db3",
   "metadata": {},
   "outputs": [],
   "source": [
    "mapdataset = MapDataset.read('/home/katrin/Documents/simulated_dataset.fits')\n",
    "mapdataset2 = MapDataset.read('/home/katrin/Documents/simulated_dataset.fits', name = \"test\")"
   ]
  },
  {
   "cell_type": "code",
   "execution_count": 8,
   "id": "a38dcaf3",
   "metadata": {},
   "outputs": [],
   "source": [
    "mapdataset.models = models"
   ]
  },
  {
   "cell_type": "code",
   "execution_count": 9,
   "id": "5d0f5397",
   "metadata": {},
   "outputs": [
    {
     "name": "stdout",
     "output_type": "stream",
     "text": [
      "in map dataset: prior_fit_statistic 10.01\n"
     ]
    },
    {
     "data": {
      "text/plain": [
       "568047.7444260732"
      ]
     },
     "execution_count": 9,
     "metadata": {},
     "output_type": "execute_result"
    }
   ],
   "source": [
    "mapdataset.stat_sum()"
   ]
  },
  {
   "cell_type": "code",
   "execution_count": 10,
   "id": "e67cbe4f",
   "metadata": {},
   "outputs": [
    {
     "name": "stdout",
     "output_type": "stream",
     "text": [
      "in map dataset: prior_fit_statistic 10.01\n"
     ]
    },
    {
     "data": {
      "text/plain": [
       "568047.7444260732"
      ]
     },
     "execution_count": 10,
     "metadata": {},
     "output_type": "execute_result"
    }
   ],
   "source": [
    "mapdataset.stat_sum()"
   ]
  },
  {
   "cell_type": "code",
   "execution_count": 11,
   "id": "db5ce714",
   "metadata": {},
   "outputs": [
    {
     "name": "stdout",
     "output_type": "stream",
     "text": [
      "in map dataset: prior_fit_statistic 72.41\n"
     ]
    },
    {
     "data": {
      "text/plain": [
       "25164106537.8808"
      ]
     },
     "execution_count": 11,
     "metadata": {},
     "output_type": "execute_result"
    }
   ],
   "source": [
    "mapdataset.models.parameters['index'].value  = 10\n",
    "mapdataset.stat_sum()"
   ]
  },
  {
   "cell_type": "markdown",
   "id": "b30314b2",
   "metadata": {},
   "source": [
    "### Problem: Datasets"
   ]
  },
  {
   "cell_type": "code",
   "execution_count": 12,
   "id": "a30f2cc8",
   "metadata": {},
   "outputs": [],
   "source": [
    "datasets = Datasets([mapdataset, mapdataset2, mapdataset2.copy()])"
   ]
  },
  {
   "cell_type": "code",
   "execution_count": 13,
   "id": "fc33c3d1",
   "metadata": {},
   "outputs": [
    {
     "name": "stdout",
     "output_type": "stream",
     "text": [
      "in map dataset: prior_fit_statistic 72.41\n"
     ]
    },
    {
     "data": {
      "text/html": [
       "<pre>MapDataset\n",
       "----------\n",
       "\n",
       "  Name                            : dataset-simu \n",
       "\n",
       "  Total counts                    : 169702 \n",
       "  Total background counts         : 161250.95\n",
       "  Total excess counts             : 8451.05\n",
       "\n",
       "  Predicted counts                : 12582326553.54\n",
       "  Predicted background counts     : 161250.95\n",
       "  Predicted excess counts         : 12582165302.59\n",
       "\n",
       "  Exposure min                    : 4.08e+02 m2 s\n",
       "  Exposure max                    : 3.58e+10 m2 s\n",
       "\n",
       "  Number of total bins            : 810000 \n",
       "  Number of fit bins              : 804492 \n",
       "\n",
       "  Fit statistic type              : cash\n",
       "  Fit statistic value (-2 log(L)) : 25164106537.88\n",
       "\n",
       "  Number of models                : 2 \n",
       "  Number of parameters            : 16\n",
       "  Number of free parameters       : 10\n",
       "\n",
       "  Component 0: SkyModel\n",
       "  \n",
       "    Name                      : 1\n",
       "    Datasets names            : None\n",
       "    Spectral model type       : PowerLawSpectralModel\n",
       "    Spatial  model type       : GaussianSpatialModel\n",
       "    Temporal model type       : \n",
       "    Parameters:\n",
       "      index                         :     10.000   +/-    0.00             \n",
       "      amplitude                     :   1.00e-12   +/- 0.0e+00 1 / (TeV s cm2)\n",
       "      reference             (frozen):      1.000       TeV         \n",
       "      lon_0@EsdxWgxi                :      0.200   +/-    0.00 deg         \n",
       "      lat_0@a5Vn-7lh                :      0.100   +/-    0.00 deg         \n",
       "      sigma@zwJ5O4oo                :      0.300   +/-    0.00 deg         \n",
       "      e@kOg-HAuJ            (frozen):      0.000                   \n",
       "      phi@OO-p09KF          (frozen):      0.000       deg         \n",
       "  \n",
       "  Component 1: SkyModel\n",
       "  \n",
       "    Name                      : 2\n",
       "    Datasets names            : None\n",
       "    Spectral model type       : PowerLawSpectralModel\n",
       "    Spatial  model type       : GaussianSpatialModel\n",
       "    Temporal model type       : \n",
       "    Parameters:\n",
       "      index                         :      2.100   +/-    0.00             \n",
       "      amplitude                     :   1.00e-12   +/- 0.0e+00 1 / (TeV s cm2)\n",
       "      reference             (frozen):      1.000       TeV         \n",
       "      lon_0@EsdxWgxi                :      0.200   +/-    0.00 deg         \n",
       "      lat_0@a5Vn-7lh                :      0.100   +/-    0.00 deg         \n",
       "      sigma@zwJ5O4oo                :      0.300   +/-    0.00 deg         \n",
       "      e@kOg-HAuJ            (frozen):      0.000                   \n",
       "      phi@OO-p09KF          (frozen):      0.000       deg         \n",
       "  \n",
       "  </pre>"
      ],
      "text/plain": [
       "<gammapy.datasets.map.MapDataset at 0x7efd083db070>"
      ]
     },
     "execution_count": 13,
     "metadata": {},
     "output_type": "execute_result"
    }
   ],
   "source": [
    "mapdataset"
   ]
  },
  {
   "cell_type": "code",
   "execution_count": 14,
   "id": "9e950a5f",
   "metadata": {},
   "outputs": [
    {
     "data": {
      "text/html": [
       "<pre>MapDataset\n",
       "----------\n",
       "\n",
       "  Name                            : test \n",
       "\n",
       "  Total counts                    : 169702 \n",
       "  Total background counts         : 161250.95\n",
       "  Total excess counts             : 8451.05\n",
       "\n",
       "  Predicted counts                : 161250.95\n",
       "  Predicted background counts     : 161250.95\n",
       "  Predicted excess counts         : nan\n",
       "\n",
       "  Exposure min                    : 4.08e+02 m2 s\n",
       "  Exposure max                    : 3.58e+10 m2 s\n",
       "\n",
       "  Number of total bins            : 810000 \n",
       "  Number of fit bins              : 804492 \n",
       "\n",
       "  Fit statistic type              : cash\n",
       "  Fit statistic value (-2 log(L)) : nan\n",
       "\n",
       "  Number of models                : 0 \n",
       "  Number of parameters            : 0\n",
       "  Number of free parameters       : 0\n",
       "\n",
       "</pre>"
      ],
      "text/plain": [
       "<gammapy.datasets.map.MapDataset at 0x7efd0b1eb9d0>"
      ]
     },
     "execution_count": 14,
     "metadata": {},
     "output_type": "execute_result"
    }
   ],
   "source": [
    "mapdataset2"
   ]
  },
  {
   "cell_type": "code",
   "execution_count": 15,
   "id": "332daed2",
   "metadata": {},
   "outputs": [
    {
     "data": {
      "text/plain": [
       "[<gammapy.modeling.models.prior.MultiDimensionalPrior at 0x7efda0389400>,\n",
       " <gammapy.modeling.models.prior.UniformPriorModel at 0x7efda2c17dc0>,\n",
       " <gammapy.modeling.models.prior.MultiDimensionalPrior at 0x7efda0389400>]"
      ]
     },
     "execution_count": 15,
     "metadata": {},
     "output_type": "execute_result"
    }
   ],
   "source": [
    "datasets[0].priors"
   ]
  },
  {
   "cell_type": "code",
   "execution_count": 16,
   "id": "22c01d2c",
   "metadata": {},
   "outputs": [
    {
     "data": {
      "text/plain": [
       "[<gammapy.modeling.models.prior.MultiDimensionalPrior at 0x7efda0389400>,\n",
       " <gammapy.modeling.models.prior.UniformPriorModel at 0x7efda2c17dc0>,\n",
       " <gammapy.modeling.models.prior.MultiDimensionalPrior at 0x7efda0389400>]"
      ]
     },
     "execution_count": 16,
     "metadata": {},
     "output_type": "execute_result"
    }
   ],
   "source": [
    "datasets[1].models = models\n",
    "datasets[1].priors"
   ]
  },
  {
   "cell_type": "code",
   "execution_count": 17,
   "id": "67a31dca",
   "metadata": {},
   "outputs": [
    {
     "data": {
      "text/html": [
       "<pre>DatasetModels\n",
       "\n",
       "Component 0: SkyModel\n",
       "\n",
       "  Name                      : 1\n",
       "  Datasets names            : None\n",
       "  Spectral model type       : PowerLawSpectralModel\n",
       "  Spatial  model type       : GaussianSpatialModel\n",
       "  Temporal model type       : \n",
       "  Parameters:\n",
       "    index                         :     10.000   +/-    0.00             \n",
       "    amplitude                     :   1.00e-12   +/- 0.0e+00 1 / (TeV s cm2)\n",
       "    reference             (frozen):      1.000       TeV         \n",
       "    lon_0@dSj35SJu                :      0.200   +/-    0.00 deg         \n",
       "    lat_0@LGOS_DxS                :      0.100   +/-    0.00 deg         \n",
       "    sigma@TagTuBFh                :      0.300   +/-    0.00 deg         \n",
       "    e@Vjbef5je            (frozen):      0.000                   \n",
       "    phi@mGW_eI7C          (frozen):      0.000       deg         \n",
       "\n",
       "Component 1: SkyModel\n",
       "\n",
       "  Name                      : 2\n",
       "  Datasets names            : None\n",
       "  Spectral model type       : PowerLawSpectralModel\n",
       "  Spatial  model type       : GaussianSpatialModel\n",
       "  Temporal model type       : \n",
       "  Parameters:\n",
       "    index                         :      2.100   +/-    0.00             \n",
       "    amplitude                     :   1.00e-12   +/- 0.0e+00 1 / (TeV s cm2)\n",
       "    reference             (frozen):      1.000       TeV         \n",
       "    lon_0@dSj35SJu                :      0.200   +/-    0.00 deg         \n",
       "    lat_0@LGOS_DxS                :      0.100   +/-    0.00 deg         \n",
       "    sigma@TagTuBFh                :      0.300   +/-    0.00 deg         \n",
       "    e@Vjbef5je            (frozen):      0.000                   \n",
       "    phi@mGW_eI7C          (frozen):      0.000       deg         \n",
       "\n",
       "</pre>"
      ],
      "text/plain": [
       "<gammapy.modeling.models.core.DatasetModels at 0x7efd07d61f10>"
      ]
     },
     "execution_count": 17,
     "metadata": {},
     "output_type": "execute_result"
    }
   ],
   "source": [
    "datasets.models"
   ]
  },
  {
   "cell_type": "code",
   "execution_count": 18,
   "id": "d75564c6",
   "metadata": {},
   "outputs": [
    {
     "data": {
      "text/plain": [
       "0.0"
      ]
     },
     "execution_count": 18,
     "metadata": {},
     "output_type": "execute_result"
    }
   ],
   "source": [
    "priors = {}\n",
    "prior_fit_statistic(list(priors.values()))"
   ]
  },
  {
   "cell_type": "code",
   "execution_count": 19,
   "id": "771c99c3",
   "metadata": {},
   "outputs": [
    {
     "data": {
      "text/plain": [
       "72.41"
      ]
     },
     "execution_count": 19,
     "metadata": {},
     "output_type": "execute_result"
    }
   ],
   "source": [
    "\n",
    "prior_fit_statistic(list(datasets.priors.values()))"
   ]
  },
  {
   "cell_type": "code",
   "execution_count": 20,
   "id": "7595c23a",
   "metadata": {},
   "outputs": [
    {
     "name": "stdout",
     "output_type": "stream",
     "text": [
      "None\n",
      "None\n"
     ]
    }
   ],
   "source": [
    "datasets[2].models = datasets[1].models\n",
    "datasets[2].models = None \n",
    "\n",
    "print(datasets[2].priors)\n",
    "print(datasets[2].models)"
   ]
  },
  {
   "cell_type": "code",
   "execution_count": 21,
   "id": "47514297",
   "metadata": {},
   "outputs": [
    {
     "name": "stdout",
     "output_type": "stream",
     "text": [
      "in map dataset: prior_fit_statistic 0.0\n"
     ]
    },
    {
     "data": {
      "text/plain": [
       "569521.2946201434"
      ]
     },
     "execution_count": 21,
     "metadata": {},
     "output_type": "execute_result"
    }
   ],
   "source": [
    "datasets[2].stat_sum()"
   ]
  },
  {
   "cell_type": "code",
   "execution_count": 22,
   "id": "11657899",
   "metadata": {},
   "outputs": [
    {
     "name": "stdout",
     "output_type": "stream",
     "text": [
      " prior_fit_statistic(list(self.priors.values())) 72.41\n",
      "in map dataset: prior_fit_statistic 72.41\n",
      "in map dataset: prior_fit_statistic 72.41\n",
      "in map dataset: prior_fit_statistic 0.0\n"
     ]
    },
    {
     "data": {
      "text/plain": [
       "50328782524.64622"
      ]
     },
     "execution_count": 22,
     "metadata": {},
     "output_type": "execute_result"
    }
   ],
   "source": [
    "datasets.stat_sum()"
   ]
  },
  {
   "cell_type": "code",
   "execution_count": 23,
   "id": "3ecb5d34",
   "metadata": {},
   "outputs": [
    {
     "name": "stdout",
     "output_type": "stream",
     "text": [
      "in map dataset: prior_fit_statistic 72.41\n"
     ]
    },
    {
     "data": {
      "text/plain": [
       "25164106537.8808"
      ]
     },
     "execution_count": 23,
     "metadata": {},
     "output_type": "execute_result"
    }
   ],
   "source": [
    "datasets[1].stat_sum()"
   ]
  },
  {
   "cell_type": "code",
   "execution_count": 24,
   "id": "051c5c05",
   "metadata": {},
   "outputs": [
    {
     "name": "stdout",
     "output_type": "stream",
     "text": [
      " prior_fit_statistic(list(self.priors.values())) 72.41\n",
      "in map dataset: prior_fit_statistic 72.41\n",
      "in map dataset: prior_fit_statistic 72.41\n",
      "in map dataset: prior_fit_statistic 0.0\n"
     ]
    },
    {
     "data": {
      "text/plain": [
       "50328782524.64622"
      ]
     },
     "execution_count": 24,
     "metadata": {},
     "output_type": "execute_result"
    }
   ],
   "source": [
    "datasets.stat_sum() "
   ]
  },
  {
   "cell_type": "code",
   "execution_count": 25,
   "id": "acb503f0",
   "metadata": {},
   "outputs": [
    {
     "data": {
      "text/plain": [
       "{<gammapy.modeling.models.prior.MultiDimensionalPrior at 0x7efda0389400>: <gammapy.modeling.models.prior.MultiDimensionalPrior at 0x7efda0389400>,\n",
       " <gammapy.modeling.models.prior.UniformPriorModel at 0x7efda2c17dc0>: <gammapy.modeling.models.prior.UniformPriorModel at 0x7efda2c17dc0>}"
      ]
     },
     "execution_count": 25,
     "metadata": {},
     "output_type": "execute_result"
    }
   ],
   "source": [
    "datasets.priors"
   ]
  },
  {
   "cell_type": "code",
   "execution_count": 26,
   "id": "df94117d",
   "metadata": {},
   "outputs": [],
   "source": [
    "uni = UniformPriorModel(modelparameters = datasets.models.parameters['lon_0'], uni = 0.66)"
   ]
  },
  {
   "cell_type": "code",
   "execution_count": 27,
   "id": "b27ea49a",
   "metadata": {},
   "outputs": [
    {
     "data": {
      "text/plain": [
       "{<gammapy.modeling.models.prior.MultiDimensionalPrior at 0x7efda0389400>: <gammapy.modeling.models.prior.MultiDimensionalPrior at 0x7efda0389400>,\n",
       " <gammapy.modeling.models.prior.UniformPriorModel at 0x7efda2c17dc0>: <gammapy.modeling.models.prior.UniformPriorModel at 0x7efda2c17dc0>,\n",
       " <gammapy.modeling.models.prior.UniformPriorModel at 0x7efd08396850>: <gammapy.modeling.models.prior.UniformPriorModel at 0x7efd08396850>}"
      ]
     },
     "execution_count": 27,
     "metadata": {},
     "output_type": "execute_result"
    }
   ],
   "source": [
    "datasets.priors"
   ]
  },
  {
   "cell_type": "code",
   "execution_count": null,
   "id": "e31674d2",
   "metadata": {},
   "outputs": [],
   "source": []
  }
 ],
 "metadata": {
  "kernelspec": {
   "display_name": "Python 3 (ipykernel)",
   "language": "python",
   "name": "python3"
  },
  "language_info": {
   "codemirror_mode": {
    "name": "ipython",
    "version": 3
   },
   "file_extension": ".py",
   "mimetype": "text/x-python",
   "name": "python",
   "nbconvert_exporter": "python",
   "pygments_lexer": "ipython3",
   "version": "3.9.16"
  }
 },
 "nbformat": 4,
 "nbformat_minor": 5
}
